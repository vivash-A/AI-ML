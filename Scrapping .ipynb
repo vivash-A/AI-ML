{
 "cells": [
  {
   "cell_type": "code",
   "execution_count": 1,
   "id": "65dc7f0e-7619-4f97-92cf-9ff108dd3c9f",
   "metadata": {},
   "outputs": [],
   "source": [
    "import requests\n",
    "from bs4 import BeautifulSoup"
   ]
  },
  {
   "cell_type": "code",
   "execution_count": 2,
   "id": "94e61017-02aa-4120-8b87-74304f4d560e",
   "metadata": {},
   "outputs": [],
   "source": [
    "url = \"http://books.toscrape.com\""
   ]
  },
  {
   "cell_type": "code",
   "execution_count": 3,
   "id": "084a0eef-5e74-486e-85b7-fcb7dcb46c53",
   "metadata": {},
   "outputs": [],
   "source": [
    " response = requests.get(\"http://books.toscrape.com\")"
   ]
  },
  {
   "cell_type": "code",
   "execution_count": 4,
   "id": "b1353b30-cd57-4101-ab0b-cf271d7ca8c7",
   "metadata": {},
   "outputs": [],
   "source": [
    "soup = BeautifulSoup(response.text, 'html.parser')"
   ]
  },
  {
   "cell_type": "code",
   "execution_count": 5,
   "id": "535c43e0-591f-4963-8f5d-dbbbddd58972",
   "metadata": {},
   "outputs": [],
   "source": [
    "books = soup.find_all('article', class_='product_pod')"
   ]
  },
  {
   "cell_type": "code",
   "execution_count": 6,
   "id": "bd5b07b2-da8e-499a-950f-3f5d664f2c4d",
   "metadata": {},
   "outputs": [
    {
     "name": "stdout",
     "output_type": "stream",
     "text": [
      "Title: A Light in the Attic\n",
      "Price: Â£51.77\n",
      "\n",
      "Title: Tipping the Velvet\n",
      "Price: Â£53.74\n",
      "\n",
      "Title: Soumission\n",
      "Price: Â£50.10\n",
      "\n",
      "Title: Sharp Objects\n",
      "Price: Â£47.82\n",
      "\n",
      "Title: Sapiens: A Brief History of Humankind\n",
      "Price: Â£54.23\n",
      "\n",
      "Title: The Requiem Red\n",
      "Price: Â£22.65\n",
      "\n",
      "Title: The Dirty Little Secrets of Getting Your Dream Job\n",
      "Price: Â£33.34\n",
      "\n",
      "Title: The Coming Woman: A Novel Based on the Life of the Infamous Feminist, Victoria Woodhull\n",
      "Price: Â£17.93\n",
      "\n",
      "Title: The Boys in the Boat: Nine Americans and Their Epic Quest for Gold at the 1936 Berlin Olympics\n",
      "Price: Â£22.60\n",
      "\n",
      "Title: The Black Maria\n",
      "Price: Â£52.15\n",
      "\n",
      "Title: Starving Hearts (Triangular Trade Trilogy, #1)\n",
      "Price: Â£13.99\n",
      "\n",
      "Title: Shakespeare's Sonnets\n",
      "Price: Â£20.66\n",
      "\n",
      "Title: Set Me Free\n",
      "Price: Â£17.46\n",
      "\n",
      "Title: Scott Pilgrim's Precious Little Life (Scott Pilgrim #1)\n",
      "Price: Â£52.29\n",
      "\n",
      "Title: Rip it Up and Start Again\n",
      "Price: Â£35.02\n",
      "\n",
      "Title: Our Band Could Be Your Life: Scenes from the American Indie Underground, 1981-1991\n",
      "Price: Â£57.25\n",
      "\n",
      "Title: Olio\n",
      "Price: Â£23.88\n",
      "\n",
      "Title: Mesaerion: The Best Science Fiction Stories 1800-1849\n",
      "Price: Â£37.59\n",
      "\n",
      "Title: Libertarianism for Beginners\n",
      "Price: Â£51.33\n",
      "\n",
      "Title: It's Only the Himalayas\n",
      "Price: Â£45.17\n",
      "\n"
     ]
    }
   ],
   "source": [
    "for book in books:\n",
    "    title = book.h3.a['title']\n",
    "    price = book.find('p', class_='price_color').text\n",
    "    print(f\"Title: {title}\\nPrice: {price}\\n\")"
   ]
  },
  {
   "cell_type": "code",
   "execution_count": 7,
   "id": "af9b97af-2a0b-455f-b717-b5ab3afd58b9",
   "metadata": {},
   "outputs": [],
   "source": [
    "book_data = []\n",
    "books = soup.find_all('article', class_='product_pod')"
   ]
  },
  {
   "cell_type": "code",
   "execution_count": 8,
   "id": "0c39b526-c86c-4d7a-8486-6a61a77545a9",
   "metadata": {},
   "outputs": [
    {
     "name": "stdout",
     "output_type": "stream",
     "text": [
      "Title: A Light in the Attic\n",
      "Price:Â£51.77\n",
      "\n",
      "Title: Tipping the Velvet\n",
      "Price:Â£53.74\n",
      "\n",
      "Title: Soumission\n",
      "Price:Â£50.10\n",
      "\n",
      "Title: Sharp Objects\n",
      "Price:Â£47.82\n",
      "\n",
      "Title: Sapiens: A Brief History of Humankind\n",
      "Price:Â£54.23\n",
      "\n",
      "Title: The Requiem Red\n",
      "Price:Â£22.65\n",
      "\n",
      "Title: The Dirty Little Secrets of Getting Your Dream Job\n",
      "Price:Â£33.34\n",
      "\n",
      "Title: The Coming Woman: A Novel Based on the Life of the Infamous Feminist, Victoria Woodhull\n",
      "Price:Â£17.93\n",
      "\n",
      "Title: The Boys in the Boat: Nine Americans and Their Epic Quest for Gold at the 1936 Berlin Olympics\n",
      "Price:Â£22.60\n",
      "\n",
      "Title: The Black Maria\n",
      "Price:Â£52.15\n",
      "\n",
      "Title: Starving Hearts (Triangular Trade Trilogy, #1)\n",
      "Price:Â£13.99\n",
      "\n",
      "Title: Shakespeare's Sonnets\n",
      "Price:Â£20.66\n",
      "\n",
      "Title: Set Me Free\n",
      "Price:Â£17.46\n",
      "\n",
      "Title: Scott Pilgrim's Precious Little Life (Scott Pilgrim #1)\n",
      "Price:Â£52.29\n",
      "\n",
      "Title: Rip it Up and Start Again\n",
      "Price:Â£35.02\n",
      "\n",
      "Title: Our Band Could Be Your Life: Scenes from the American Indie Underground, 1981-1991\n",
      "Price:Â£57.25\n",
      "\n",
      "Title: Olio\n",
      "Price:Â£23.88\n",
      "\n",
      "Title: Mesaerion: The Best Science Fiction Stories 1800-1849\n",
      "Price:Â£37.59\n",
      "\n",
      "Title: Libertarianism for Beginners\n",
      "Price:Â£51.33\n",
      "\n",
      "Title: It's Only the Himalayas\n",
      "Price:Â£45.17\n",
      "\n"
     ]
    }
   ],
   "source": [
    "for book in books:\n",
    "    title = book.h3.a['title']\n",
    "    price = book.find('p', class_='price_color').text\n",
    "    print(f\"Title: {title}\\nPrice:{price}\\n\")\n",
    "    book_data.append({\"Title\": title, \"price\": price})"
   ]
  },
  {
   "cell_type": "code",
   "execution_count": 9,
   "id": "bd19703f-9342-49dc-95d3-8d17631fc707",
   "metadata": {},
   "outputs": [],
   "source": [
    "import pandas as pd"
   ]
  },
  {
   "cell_type": "code",
   "execution_count": 11,
   "id": "d61a5823-7aa1-4f6c-a99a-69a779ba85dd",
   "metadata": {},
   "outputs": [
    {
     "name": "stdout",
     "output_type": "stream",
     "text": [
      "\n"
     ]
    }
   ],
   "source": [
    "df = pd.DataFrame(book_data)\n",
    "print()"
   ]
  },
  {
   "cell_type": "code",
   "execution_count": 12,
   "id": "e1b9f83f-e6f5-490a-9384-6128d3901482",
   "metadata": {},
   "outputs": [
    {
     "name": "stdout",
     "output_type": "stream",
     "text": [
      "Title: A Light in the Attic\n",
      "Price (GBP): £51.77\n",
      "Price (INR): ₹5384.08\n",
      "\n",
      "Title: Tipping the Velvet\n",
      "Price (GBP): £53.74\n",
      "Price (INR): ₹5588.96\n",
      "\n",
      "Title: Soumission\n",
      "Price (GBP): £50.10\n",
      "Price (INR): ₹5210.40\n",
      "\n",
      "Title: Sharp Objects\n",
      "Price (GBP): £47.82\n",
      "Price (INR): ₹4973.28\n",
      "\n",
      "Title: Sapiens: A Brief History of Humankind\n",
      "Price (GBP): £54.23\n",
      "Price (INR): ₹5639.92\n",
      "\n",
      "Title: The Requiem Red\n",
      "Price (GBP): £22.65\n",
      "Price (INR): ₹2355.60\n",
      "\n",
      "Title: The Dirty Little Secrets of Getting Your Dream Job\n",
      "Price (GBP): £33.34\n",
      "Price (INR): ₹3467.36\n",
      "\n",
      "Title: The Coming Woman: A Novel Based on the Life of the Infamous Feminist, Victoria Woodhull\n",
      "Price (GBP): £17.93\n",
      "Price (INR): ₹1864.72\n",
      "\n",
      "Title: The Boys in the Boat: Nine Americans and Their Epic Quest for Gold at the 1936 Berlin Olympics\n",
      "Price (GBP): £22.60\n",
      "Price (INR): ₹2350.40\n",
      "\n",
      "Title: The Black Maria\n",
      "Price (GBP): £52.15\n",
      "Price (INR): ₹5423.60\n",
      "\n",
      "Title: Starving Hearts (Triangular Trade Trilogy, #1)\n",
      "Price (GBP): £13.99\n",
      "Price (INR): ₹1454.96\n",
      "\n",
      "Title: Shakespeare's Sonnets\n",
      "Price (GBP): £20.66\n",
      "Price (INR): ₹2148.64\n",
      "\n",
      "Title: Set Me Free\n",
      "Price (GBP): £17.46\n",
      "Price (INR): ₹1815.84\n",
      "\n",
      "Title: Scott Pilgrim's Precious Little Life (Scott Pilgrim #1)\n",
      "Price (GBP): £52.29\n",
      "Price (INR): ₹5438.16\n",
      "\n",
      "Title: Rip it Up and Start Again\n",
      "Price (GBP): £35.02\n",
      "Price (INR): ₹3642.08\n",
      "\n",
      "Title: Our Band Could Be Your Life: Scenes from the American Indie Underground, 1981-1991\n",
      "Price (GBP): £57.25\n",
      "Price (INR): ₹5954.00\n",
      "\n",
      "Title: Olio\n",
      "Price (GBP): £23.88\n",
      "Price (INR): ₹2483.52\n",
      "\n",
      "Title: Mesaerion: The Best Science Fiction Stories 1800-1849\n",
      "Price (GBP): £37.59\n",
      "Price (INR): ₹3909.36\n",
      "\n",
      "Title: Libertarianism for Beginners\n",
      "Price (GBP): £51.33\n",
      "Price (INR): ₹5338.32\n",
      "\n",
      "Title: It's Only the Himalayas\n",
      "Price (GBP): £45.17\n",
      "Price (INR): ₹4697.68\n",
      "\n"
     ]
    }
   ],
   "source": [
    "book_data = []\n",
    "conversion_rate = 104  # 1 GBP ≈ 104 INR (check current rate)\n",
    "\n",
    "for book in books:\n",
    "    title = book.h3.a['title']\n",
    "    price_gbp = book.find('p', class_='price_color').text  # e.g., \"£51.77\"\n",
    "    \n",
    "    # Clean the price string by removing unwanted characters\n",
    "    price_gbp_cleaned = price_gbp.replace('£', '').replace('Â', '').strip()\n",
    "    \n",
    "    try:\n",
    "        # Convert cleaned price to float\n",
    "        price_gbp_value = float(price_gbp_cleaned) if price_gbp_cleaned else 0.0\n",
    "        \n",
    "        # Convert to INR\n",
    "        price_inr = price_gbp_value * conversion_rate\n",
    "        \n",
    "        # Format output\n",
    "        print(f\"Title: {title}\\nPrice (GBP): £{price_gbp_value:.2f}\\nPrice (INR): ₹{price_inr:.2f}\\n\")\n",
    "        book_data.append({\n",
    "            \"Title\": title,\n",
    "            \"Price (GBP)\": f\"£{price_gbp_value:.2f}\",\n",
    "            \"Price (INR)\": f\"₹{price_inr:.2f}\"\n",
    "        })\n",
    "    except ValueError:\n",
    "        print(f\"Error converting price for '{title}': {price_gbp}\")"
   ]
  },
  {
   "cell_type": "code",
   "execution_count": null,
   "id": "5c5dde10-2575-4ecd-aa1f-9626f70874b6",
   "metadata": {},
   "outputs": [],
   "source": []
  }
 ],
 "metadata": {
  "kernelspec": {
   "display_name": "Python 3 (ipykernel)",
   "language": "python",
   "name": "python3"
  },
  "language_info": {
   "codemirror_mode": {
    "name": "ipython",
    "version": 3
   },
   "file_extension": ".py",
   "mimetype": "text/x-python",
   "name": "python",
   "nbconvert_exporter": "python",
   "pygments_lexer": "ipython3",
   "version": "3.13.5"
  }
 },
 "nbformat": 4,
 "nbformat_minor": 5
}
