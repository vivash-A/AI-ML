{
 "cells": [
  {
   "cell_type": "code",
   "execution_count": 2,
   "id": "1a4f4d4f-638a-43a3-a0ca-80809284ea9f",
   "metadata": {},
   "outputs": [],
   "source": [
    "import numpy as np"
   ]
  },
  {
   "cell_type": "code",
   "execution_count": 3,
   "id": "34e8bed0-9eeb-4f31-94d5-b1c15d1415f4",
   "metadata": {},
   "outputs": [
    {
     "name": "stdout",
     "output_type": "stream",
     "text": [
      "[0 0 3 0 2 4 2 2 2 2]\n"
     ]
    }
   ],
   "source": [
    "arr = np.array([0, 0, 3, 0, 2, 4, 2, 2, 2, 2])\n",
    "print(arr)"
   ]
  },
  {
   "cell_type": "code",
   "execution_count": 4,
   "id": "f34ae7de-1bb8-4d24-9258-9a7089ec3aae",
   "metadata": {},
   "outputs": [
    {
     "name": "stdout",
     "output_type": "stream",
     "text": [
      "[0 2 3 4]\n",
      "[0 0 2 0 1 3 1 1 1 1]\n"
     ]
    }
   ],
   "source": [
    "unique_vals, inverse_indices = np.unique(arr, return_inverse=True)\n",
    "print(unique_vals)\n",
    "print(inverse_indices)"
   ]
  },
  {
   "cell_type": "code",
   "execution_count": 5,
   "id": "424a9afe-ebd0-49fb-b2d8-88a66b9ee5b3",
   "metadata": {},
   "outputs": [
    {
     "name": "stdout",
     "output_type": "stream",
     "text": [
      "Position 0: value 0 -> unique index 0\n",
      "Position 1: value 0 -> unique index 0\n",
      "Position 2: value 3 -> unique index 2\n",
      "Position 3: value 0 -> unique index 0\n",
      "Position 4: value 2 -> unique index 1\n",
      "Position 5: value 4 -> unique index 3\n",
      "Position 6: value 2 -> unique index 1\n",
      "Position 7: value 2 -> unique index 1\n",
      "Position 8: value 2 -> unique index 1\n",
      "Position 9: value 2 -> unique index 1\n"
     ]
    }
   ],
   "source": [
    "for i in range(len(arr)):\n",
    "    print(f\"Position {i}: value {arr[i]} -> unique index {inverse_indices[i]}\")"
   ]
  },
  {
   "cell_type": "code",
   "execution_count": 6,
   "id": "e80de53b-c0e8-4b1c-8fb8-13422fc0fbf7",
   "metadata": {},
   "outputs": [
    {
     "name": "stdout",
     "output_type": "stream",
     "text": [
      "[False  True False  True False False  True  True  True  True]\n"
     ]
    }
   ],
   "source": [
    "def find_duplicates(arr):\n",
    "    result = []\n",
    "    seen = []\n",
    "    for value in arr:\n",
    "        if value in seen:\n",
    "            result.append(True)\n",
    "        else:\n",
    "            result.append(False)\n",
    "            seen.append(value)\n",
    "    return np.array(result)\n",
    "\n",
    "result = find_duplicates(arr)\n",
    "print(result)"
   ]
  },
  {
   "cell_type": "code",
   "execution_count": 7,
   "id": "9e05c7d3-865d-4bf5-bc9d-4e83f4dbe202",
   "metadata": {},
   "outputs": [
    {
     "name": "stdout",
     "output_type": "stream",
     "text": [
      "[False  True False  True False False  True  True  True  True]\n"
     ]
    }
   ],
   "source": [
    "def find_duplicates_numpy(arr):\n",
    "    unique_vals, inverse_indices = np.unique(arr, return_inverse=True)\n",
    "    seen = np.zeros(len(unique_vals), dtype=bool)\n",
    "    result = np.zeros(len(arr), dtype=bool)\n",
    "    \n",
    "    for i in range(len(arr)):\n",
    "        unique_index = inverse_indices[i]\n",
    "        if seen[unique_index]:\n",
    "            result[i] = True\n",
    "        else:\n",
    "            seen[unique_index] = True\n",
    "            result[i] = False\n",
    "    \n",
    "    return result\n",
    "\n",
    "result = find_duplicates_numpy(arr)\n",
    "print(result)"
   ]
  },
  {
   "cell_type": "code",
   "execution_count": 8,
   "id": "8cd9b718-cf40-4505-910c-4ccb21c69f70",
   "metadata": {},
   "outputs": [
    {
     "name": "stdout",
     "output_type": "stream",
     "text": [
      "Position 0: 0 -> False (first)\n",
      "Position 1: 0 -> True (duplicate)\n",
      "Position 2: 3 -> False (first)\n",
      "Position 3: 0 -> True (duplicate)\n",
      "Position 4: 2 -> False (first)\n",
      "Position 5: 4 -> False (first)\n",
      "Position 6: 2 -> True (duplicate)\n",
      "Position 7: 2 -> True (duplicate)\n",
      "Position 8: 2 -> True (duplicate)\n",
      "Position 9: 2 -> True (duplicate)\n",
      "[False  True False  True False False  True  True  True  True]\n"
     ]
    }
   ],
   "source": [
    "arr = np.array([0, 0, 3, 0, 2, 4, 2, 2, 2, 2])\n",
    "unique_vals, inverse_indices = np.unique(arr, return_inverse=True)\n",
    "seen = np.zeros(len(unique_vals), dtype=bool)\n",
    "result = np.zeros(len(arr), dtype=bool)\n",
    "\n",
    "for i in range(len(arr)):\n",
    "    unique_index = inverse_indices[i]\n",
    "    if seen[unique_index]:\n",
    "        result[i] = True\n",
    "        print(f\"Position {i}: {arr[i]} -> True (duplicate)\")\n",
    "    else:\n",
    "        seen[unique_index] = True\n",
    "        result[i] = False\n",
    "        print(f\"Position {i}: {arr[i]} -> False (first)\")\n",
    "\n",
    "print(result)"
   ]
  },
  {
   "cell_type": "code",
   "execution_count": 11,
   "id": "7574db22-9370-44c2-9f8e-bc14d9f27b66",
   "metadata": {},
   "outputs": [
    {
     "name": "stdin",
     "output_type": "stream",
     "text": [
      " 1\n",
      " 0 0 3 0 2 4 2 2 2 2\n"
     ]
    },
    {
     "name": "stdout",
     "output_type": "stream",
     "text": [
      "[False  True False  True False False  True  True  True  True]\n"
     ]
    }
   ],
   "source": [
    "t = int(input())\n",
    "for _ in range(t):\n",
    "    ids = list(map(int, input().split()))\n",
    "    ids_array = np.array(ids)\n",
    "    \n",
    "    unique_vals, inverse_indices = np.unique(ids_array, return_inverse=True)\n",
    "    seen = np.zeros(len(unique_vals), dtype=bool)\n",
    "    result = np.zeros(len(ids_array), dtype=bool)\n",
    "    \n",
    "    for i in range(len(ids_array)):\n",
    "        unique_index = inverse_indices[i]\n",
    "        if seen[unique_index]:\n",
    "            result[i] = True\n",
    "        else:\n",
    "            seen[unique_index] = True\n",
    "            result[i] = False\n",
    "    \n",
    "    print(result)"
   ]
  },
  {
   "cell_type": "code",
   "execution_count": 12,
   "id": "84802485-1ba3-45aa-b687-83c508a84eca",
   "metadata": {},
   "outputs": [
    {
     "name": "stdout",
     "output_type": "stream",
     "text": [
      "[False  True False  True False False  True  True  True  True]\n"
     ]
    }
   ],
   "source": [
    "arr = np.array([0, 0, 3, 0, 2, 4, 2, 2, 2, 2])\n",
    "unique_vals, inverse_indices = np.unique(arr, return_inverse=True)\n",
    "seen = np.zeros(len(unique_vals), dtype=bool)\n",
    "result = np.zeros(len(arr), dtype=bool)\n",
    "\n",
    "for i in range(len(arr)):\n",
    "    unique_index = inverse_indices[i]\n",
    "    if seen[unique_index]:\n",
    "        result[i] = True\n",
    "    else:\n",
    "        seen[unique_index] = True\n",
    "        result[i] = False\n",
    "\n",
    "print(result)"
   ]
  },
  {
   "cell_type": "code",
   "execution_count": 13,
   "id": "69f859ce-6421-41ed-9cfa-2b311f80c9b7",
   "metadata": {},
   "outputs": [
    {
     "name": "stdout",
     "output_type": "stream",
     "text": [
      "[1, 2, 3] -> [False False False]\n",
      "[1, 1, 1] -> [False  True  True]\n",
      "[1, 2, 1, 2] -> [False False  True  True]\n"
     ]
    }
   ],
   "source": [
    "test_arrays = [[1, 2, 3], [1, 1, 1], [1, 2, 1, 2]]\n",
    "for test in test_arrays:\n",
    "    arr = np.array(test)\n",
    "    result = find_duplicates_numpy(arr)\n",
    "    print(f\"{test} -> {result}\")"
   ]
  },
  {
   "cell_type": "code",
   "execution_count": null,
   "id": "4449ff4b-17be-4929-b97b-2e826e2f2673",
   "metadata": {},
   "outputs": [],
   "source": []
  }
 ],
 "metadata": {
  "kernelspec": {
   "display_name": "Python 3 (ipykernel)",
   "language": "python",
   "name": "python3"
  },
  "language_info": {
   "codemirror_mode": {
    "name": "ipython",
    "version": 3
   },
   "file_extension": ".py",
   "mimetype": "text/x-python",
   "name": "python",
   "nbconvert_exporter": "python",
   "pygments_lexer": "ipython3",
   "version": "3.13.5"
  }
 },
 "nbformat": 4,
 "nbformat_minor": 5
}
